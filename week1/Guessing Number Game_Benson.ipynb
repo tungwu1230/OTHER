{
 "cells": [
  {
   "cell_type": "code",
   "execution_count": null,
   "id": "major-afternoon",
   "metadata": {},
   "outputs": [],
   "source": [
    "from random import randint\n",
    "def guessing()\n",
    "    X = randint(1,100)\n",
    "    print(X)\n",
    "    print(\"遊戲開始\")\n",
    "    num = input(\"請輸入num:\")\n",
    "    while\n",
    "        if num != X\n",
    "            print(\"請在猜一次\")\n",
    "        if num == X\n",
    "            print(\"答對了\")\n",
    "            times += num\n",
    "            num = num + 1\n",
    "            print(times)\n",
    "            break\n",
    "        else:()"
   ]
  }
 ],
 "metadata": {
  "kernelspec": {
   "display_name": "Python 3",
   "language": "python",
   "name": "python3"
  },
  "language_info": {
   "codemirror_mode": {
    "name": "ipython",
    "version": 3
   },
   "file_extension": ".py",
   "mimetype": "text/x-python",
   "name": "python",
   "nbconvert_exporter": "python",
   "pygments_lexer": "ipython3",
   "version": "3.8.2"
  }
 },
 "nbformat": 4,
 "nbformat_minor": 5
}
